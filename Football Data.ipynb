{
 "cells": [
  {
   "cell_type": "code",
   "execution_count": 2,
   "metadata": {},
   "outputs": [],
   "source": [
    "from pprint import pprint\n",
    "import pyodbc\n",
    "import csv\n",
    "import pandas as pd\n",
    "import os\n",
    "import glob"
   ]
  },
  {
   "cell_type": "code",
   "execution_count": 3,
   "metadata": {},
   "outputs": [],
   "source": [
    "def connect_to_db():\n",
    "    \"\"\"Connects to the database.\"\"\"\n",
    "\n",
    "    conn = pyodbc.connect('Driver={SQL Server};'\n",
    "                          'Server=109.156.30.146,1433;'\n",
    "                          'Database=football_data2;'\n",
    "                          'UID=footballdata;'\n",
    "                          'PWD=tonyyeboah1;'\n",
    "                          'Trusted_Connection=no;')\n",
    "\n",
    "    cursor = conn.cursor()\n",
    "    return cursor"
   ]
  },
  {
   "cell_type": "code",
   "execution_count": 4,
   "metadata": {},
   "outputs": [],
   "source": [
    "def create_variant_query_filename(filename):\n",
    "    \"\"\"Creates a filename to store the results of the variant queries in.\"\"\"\n",
    "    with open(filename, 'w+') as f:\n",
    "        headers = 'total_back_profit,back_roi,total_lay_profit,lay_roi,total_matches,best_odds,avg_odds,' \\\n",
    "                  'worst_odds'\n",
    "        f.write(headers + '\\n')\n",
    "        f.close()"
   ]
  },
  {
   "cell_type": "code",
   "execution_count": 5,
   "metadata": {},
   "outputs": [],
   "source": [
    "def create_query_filename(filename):\n",
    "    \"\"\"Creates a file to store the results of the queries in.\"\"\"\n",
    "    with open(filename, 'w+') as f:\n",
    "        headers = 'Div,total_back_profit,back_roi,total_lay_profit,lay_roi,total_matches,overs_wins,' \\\n",
    "                  'overs_success_rate,best_odds,avg_odds,worst_odds'\n",
    "        f.write(headers + '\\n')\n",
    "        f.close()"
   ]
  },
  {
   "cell_type": "code",
   "execution_count": 6,
   "metadata": {},
   "outputs": [],
   "source": [
    "def prettify_output(cursor, results):\n",
    "    \"\"\"Prints the query output in a nice way on the console.\"\"\"\n",
    "    columns = cursor.description\n",
    "    output = [{columns[index][0]: column for index, column in enumerate(value)} for value in results]\n",
    "    pprint(output)"
   ]
  },
  {
   "cell_type": "code",
   "execution_count": 7,
   "metadata": {},
   "outputs": [],
   "source": [
    "def variants(n, x):\n",
    "    \"\"\"Returns the stats from backing matches where X of the last N matches have had over 2.5 goals\n",
    "    and stores the output in a .csv file.\"\"\"\n",
    "    if x > n:\n",
    "        raise Exception('The number of matches with over 2.5 goals cannot exceed the number of total matches!')\n",
    "    cursor = connect_to_db()\n",
    "    cursor.execute(f'EXEC dbo.spVariants {n}, {x}')\n",
    "    results = cursor.fetchall()\n",
    "    prettify_output(cursor, results)\n",
    "\n",
    "    # Write the results to .csv\n",
    "    filename = f'{x} of {n}.csv'\n",
    "    create_variant_query_filename(filename)\n",
    "    with open(filename, 'a') as f:\n",
    "        writer = csv.writer(f, delimiter=\",\", lineterminator=\"\\n\")\n",
    "        writer.writerows(results)\n",
    "        f.close()\n",
    "\n",
    "    # Add a column for the variant\n",
    "    results_db = pd.read_csv(filename)\n",
    "    results_db['Variant'] = f'{x} of {n}'\n",
    "    results_db.to_csv(filename)"
   ]
  },
  {
   "cell_type": "code",
   "execution_count": 8,
   "metadata": {},
   "outputs": [],
   "source": [
    "def h2h_query(home, away):\n",
    "    \"\"\"Prints stats on a particular fixture.\"\"\"\n",
    "    cursor = connect_to_db()\n",
    "    home = '\"' + home + '\"'  # Enclose in quotes so the query processes it correctly\n",
    "    away = '\"' + away + '\"'\n",
    "    cursor.execute(f'EXEC dbo.sph2h @HomeTeam = {home}, @AwayTeam = {away}')\n",
    "    results = cursor.fetchall()\n",
    "    prettify_output(cursor, results)"
   ]
  },
  {
   "cell_type": "code",
   "execution_count": 23,
   "metadata": {},
   "outputs": [],
   "source": [
    "def top_league_teams_query(league_pos, div):\n",
    "    \"\"\"Returns stats betting on over 2.5 in matches where either team finished in the top X of the league\n",
    "    in the previous season. If you want matches from all divisions, specify 'div' = NULL. If you want\n",
    "    to see the stats from betting on over 2.5 in all games in a league, specify league_pos to be\n",
    "    a large number (>24)\"\"\"\n",
    "    cursor = connect_to_db()\n",
    "    if div != 'NULL':\n",
    "        div = '\"' + div + '\"'\n",
    "    cursor.execute(f'EXEC dbo.TopXTeams @LeaguePos = {league_pos}, @Div = {div}')\n",
    "    results = cursor.fetchall()\n",
    "    prettify_output(cursor, results)\n",
    "    \n",
    "    if div == 'NULL':\n",
    "        div_string = 'All'\n",
    "    else:\n",
    "        div_string = div.replace('\"', '')\n",
    "\n",
    "    filename = f'Top {league_pos} Teams in {div_string}.csv'\n",
    "    create_query_filename(filename)\n",
    "    with open(filename, 'a') as f:\n",
    "        writer = csv.writer(f, delimiter=\",\", lineterminator=\"\\n\")\n",
    "        writer.writerows(results)\n",
    "        f.close()\n",
    "\n",
    "    # Add a column for the variant\n",
    "    results_db = pd.read_csv(filename)\n",
    "    results_db['Top X'] = league_pos\n",
    "    results_db.to_csv(filename)"
   ]
  },
  {
   "cell_type": "code",
   "execution_count": 10,
   "metadata": {},
   "outputs": [],
   "source": [
    "def filter_data(div, home, away, goals, filename):\n",
    "    \"\"\"Filters the data however you like and saves the results in a .csv file. All parameters optional\n",
    "    except the filename, specify = NULL if you want that parameter to be optional.\"\"\"\n",
    "    if goals % 0.25 != 0 or goals < 0:\n",
    "        raise Exception('Invalid goals line provided!')\n",
    "    cursor = connect_to_db()\n",
    "    cursor.execute(f'EXEC filter_data @Div = {div}, @HomeTeam = {home}, @AwayTeam = {away}, @FTTG = {goals}'.replace \\\n",
    "                       ('\"NULL\"', 'NULL'))\n",
    "    headers = 'Div,DateTime,HomeTeam,AwayTeam,FTHG,FTAG,FTR,GBOvr,B365Ovr,BbMxOvr,BbAvOvr,POvr,\\\n",
    "              MaxOvr,AvgOvr,PCOvr,MaxCOvr,AvgCOvr,Season,FTTG,Fixture,BestOdds,BestCOdds,\\\n",
    "              MinOdds,MinCOdds,stake,lay_min_price,layC_min_price,lay_max_price,' \\\n",
    "              'layC_max_price,BestBackProfit,BestLayProfit,ID'\n",
    "    results = cursor.fetchall()\n",
    "    prettify_output(cursor, results)\n",
    "\n",
    "    with open(filename, 'a') as f:\n",
    "        f.write(headers + '\\n')\n",
    "        writer = csv.writer(f, delimiter=\",\", lineterminator=\"\\n\")\n",
    "        writer.writerows(results)\n",
    "        f.close()"
   ]
  },
  {
   "cell_type": "code",
   "execution_count": 11,
   "metadata": {},
   "outputs": [],
   "source": [
    "def topx_teams_tg(div, overall_rank, home_rank, away_rank):\n",
    "    \"\"\"Returns the PnL and ROI stats from betting on over 2.5 in matches where either team's total goals ranking\n",
    "    in the previous season (overall, home, away) is < X. Specify = NULL if you want the\n",
    "    parameter to be optional\"\"\"\n",
    "    cursor = connect_to_db()\n",
    "    cursor.execute(f'EXEC spGoalsRanks @Div = {div}, @OverallGoalsRank = {overall_rank}, @HomeGoalsRank = {home_rank}, '\n",
    "                   f'@AwayGoalsRank = {away_rank}'.replace('\"NULL\"', 'NULL'))\n",
    "    results = cursor.fetchall()\n",
    "    prettify_output(cursor, results)\n",
    "    filename = f'{overall_rank}, {home_rank}, {away_rank}.csv'\n",
    "    create_query_filename(filename)\n",
    "    with open(filename, 'a') as f:\n",
    "        writer = csv.writer(f, delimiter=\",\", lineterminator=\"\\n\")\n",
    "        writer.writerows(results)\n",
    "    res_db = pd.read_csv(filename)\n",
    "    res_db['Combination'] = f'{overall_rank}, {home_rank}, {away_rank}'\n",
    "    res_db.to_csv(filename)"
   ]
  },
  {
   "cell_type": "code",
   "execution_count": null,
   "metadata": {},
   "outputs": [],
   "source": []
  }
 ],
 "metadata": {
  "kernelspec": {
   "display_name": "Python 3",
   "language": "python",
   "name": "python3"
  },
  "language_info": {
   "codemirror_mode": {
    "name": "ipython",
    "version": 3
   },
   "file_extension": ".py",
   "mimetype": "text/x-python",
   "name": "python",
   "nbconvert_exporter": "python",
   "pygments_lexer": "ipython3",
   "version": "3.7.6"
  }
 },
 "nbformat": 4,
 "nbformat_minor": 4
}
